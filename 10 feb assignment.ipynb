{
 "cells": [
  {
   "cell_type": "markdown",
   "id": "327f90af-9b13-47d1-9ea1-8af9366bcba3",
   "metadata": {},
   "source": [
    "(1) Which function is used to open a file? What are the different modes of opening a file? Explain each mode of file opening"
   ]
  },
  {
   "cell_type": "code",
   "execution_count": null,
   "id": "88d744c7-1ec9-447a-ba2a-19d648867e45",
   "metadata": {},
   "outputs": [],
   "source": [
    "#For example, to open a file in read-only mode, you would use the following code:\n",
    "f = open('file.txt', 'r')\n",
    "#And to open a file in write mode, you would use the following code:\n",
    "f = open('file.txt', 'w')"
   ]
  },
  {
   "cell_type": "markdown",
   "id": "0cc70323-486c-405f-96d0-6a94f2bce0f1",
   "metadata": {},
   "source": [
    "(2) Why close() function is used? Why is it important to close a file?"
   ]
  },
  {
   "cell_type": "code",
   "execution_count": 8,
   "id": "8f53cd2f-1b6b-40a0-b777-5e9d1e2a3126",
   "metadata": {},
   "outputs": [
    {
     "name": "stdout",
     "output_type": "stream",
     "text": [
      "The close() function is used to close an open file. It is important to close a file after you are done with it to free up the resources that the file was using. When a file is opened, the operating system reserves a certain amount of memory for it. If you don't close the file, this reserved memory will not be freed up and will continue to be used by your program, even though you no longer need it.\n",
      "\n",
      "Closing a file is also important for ensuring that any changes you have made to the file are properly saved\n",
      "\n",
      "\n"
     ]
    }
   ],
   "source": [
    "print(\"The close() function is used to close an open file. It is important to close a file after you are done with it to free up the resources that the file was using. When a file is opened, the operating system reserves a certain amount of memory for it. If you don't close the file, this reserved memory will not be freed up and will continue to be used by your program, even though you no longer need it.\")\n",
    "print()\n",
    "print(\"Closing a file is also important for ensuring that any changes you have made to the file are properly saved\")\n",
    "print()\n",
    "print()"
   ]
  },
  {
   "cell_type": "markdown",
   "id": "7c68aa9c-6d7b-42cb-8a22-51a70c7e15f6",
   "metadata": {},
   "source": [
    "(3) Write a python program to create a text file. Write ‘I want to become a Data Scientist’ in that file. Then close the file. Open this file and read the content of the file"
   ]
  },
  {
   "cell_type": "code",
   "execution_count": 7,
   "id": "df80dcf4-c6af-4255-ba4b-10a58c856698",
   "metadata": {},
   "outputs": [
    {
     "name": "stdout",
     "output_type": "stream",
     "text": [
      "I want to become a Data Scientist\n",
      "\n"
     ]
    }
   ],
   "source": [
    "with open(\"file.txt\", \"w\") as f:\n",
    "    f.write(\"I want to become a Data Scientist\")\n",
    "with open(\"file.txt\", \"r\") as f:\n",
    "    content = f.read()\n",
    "    print(content)\n",
    "print()    "
   ]
  },
  {
   "cell_type": "markdown",
   "id": "9790d5a1-9db2-4a1e-95b0-7e0cb4cb9d83",
   "metadata": {},
   "source": [
    "(4) read(), readline() and readlines()"
   ]
  },
  {
   "cell_type": "code",
   "execution_count": 13,
   "id": "06f29d56-15e9-402b-9a31-c18b1a0f2245",
   "metadata": {},
   "outputs": [
    {
     "name": "stdout",
     "output_type": "stream",
     "text": [
      "The read(), readline(), and readlines() methods are used to read the contents of a file in Python.\n",
      "\n",
      "1)read(): The read() method reads the entire contents of a file and returns it as a single string.:\n",
      "Example:\n",
      "Line 1Line 2Line 3\n",
      "\n",
      "2)readline(): The readline() method reads a single line from the file and returns it as a string.\n",
      "Example:\n",
      "Line 1Line 2Line 3\n",
      "\n",
      "3)readlines(): The readlines() method reads all the lines of a file and returns them as a list of strings, where each string represents a single line.\n",
      "Example:\n",
      "Line 1Line 2Line 3\n",
      "\n",
      "\n"
     ]
    }
   ],
   "source": [
    "print(\"The read(), readline(), and readlines() methods are used to read the contents of a file in Python.\")\n",
    "print()\n",
    "print(\"1)read(): The read() method reads the entire contents of a file and returns it as a single string.:\")\n",
    "print(\"Example:\")\n",
    "with open(\"file.txt\", \"r\") as f:\n",
    "    content = f.read()\n",
    "    print(content)\n",
    "print()\n",
    "print(\"2)readline(): The readline() method reads a single line from the file and returns it as a string.\")\n",
    "print(\"Example:\")\n",
    "with open(\"file.txt\", \"r\") as f:\n",
    "    line = f.readline()\n",
    "    while line:\n",
    "        print(line)\n",
    "        line = f.readline()\n",
    "print()\n",
    "print(\"3)readlines(): The readlines() method reads all the lines of a file and returns them as a list of strings, where each string represents a single line.\")\n",
    "print(\"Example:\")\n",
    "with open(\"file.txt\", \"r\") as f:\n",
    "    lines = f.readlines()\n",
    "    for line in lines:\n",
    "        print(line)\n",
    "print()\n",
    "print()"
   ]
  },
  {
   "cell_type": "markdown",
   "id": "4e374441-e9cc-4767-9961-3769fe1614ac",
   "metadata": {},
   "source": [
    "(5)  Explain why with statement is used with open(). What is the advantage of using with statement and open() together?"
   ]
  },
  {
   "cell_type": "code",
   "execution_count": 5,
   "id": "4945114f-b542-4a69-aeec-1e33413e8653",
   "metadata": {},
   "outputs": [
    {
     "name": "stdout",
     "output_type": "stream",
     "text": [
      "The with statement is used with open() to ensure that the file is properly closed after it is used. The with statement is used as a context manager, which means that it provides a context within which a certain block of code is executed. When the block of code within the with statement is exited, the with statement automatically closes the file.\n",
      "\n",
      "The advantage of using the with statement with open() is that it makes it much easier to ensure that files are properly closed, even in the case of an error. For example, if you open a file using open() and forget to close it, the file will remain open until your program terminates. If an error occurs while you are working with the file, the file may not be properly closed, and any changes you made to the file may not be saved.\n",
      "\n",
      "\n"
     ]
    }
   ],
   "source": [
    "print(\"The with statement is used with open() to ensure that the file is properly closed after it is used. The with statement is used as a context manager, which means that it provides a context within which a certain block of code is executed. When the block of code within the with statement is exited, the with statement automatically closes the file.\")\n",
    "print()\n",
    "print(\"The advantage of using the with statement with open() is that it makes it much easier to ensure that files are properly closed, even in the case of an error. For example, if you open a file using open() and forget to close it, the file will remain open until your program terminates. If an error occurs while you are working with the file, the file may not be properly closed, and any changes you made to the file may not be saved.\")\n",
    "print()\n",
    "print()"
   ]
  },
  {
   "cell_type": "markdown",
   "id": "d815ce7f-2e16-470b-a054-8721c4ce5aa9",
   "metadata": {},
   "source": [
    "(6) Explain the write() and writelines() functions. Give a suitable example."
   ]
  },
  {
   "cell_type": "code",
   "execution_count": 12,
   "id": "a79738eb-dde4-49eb-bc68-892789c430e0",
   "metadata": {},
   "outputs": [
    {
     "name": "stdout",
     "output_type": "stream",
     "text": [
      "The write() and writelines() functions are used to write data to a file in Python.\n",
      "\n",
      "1)write(): The write() function writes a string to the file. It takes a single string argument and writes it to the file.\n",
      "\n",
      "2)writelines(): The writelines() function writes a sequence of strings to the file. It takes a list of strings as an argument and writes each string to a separate line in the file.\n"
     ]
    }
   ],
   "source": [
    "print(\"The write() and writelines() functions are used to write data to a file in Python.\")\n",
    "print()\n",
    "print(\"1)write(): The write() function writes a string to the file. It takes a single string argument and writes it to the file.\")\n",
    "\n",
    "with open(\"file.txt\", \"w\") as f:\n",
    "    f.write(\"I want to become a Data Scientist\")\n",
    "print() \n",
    "print(\"2)writelines(): The writelines() function writes a sequence of strings to the file. It takes a list of strings as an argument and writes each string to a separate line in the file.\")\n",
    "\n",
    "lines = [\"Line 1\", \"Line 2\", \"Line 3\"]\n",
    "with open(\"file.txt\", \"w\") as f:\n",
    "    f.writelines(lines)"
   ]
  },
  {
   "cell_type": "code",
   "execution_count": null,
   "id": "070c9ffa-d2da-4f1d-9382-85176cbbca61",
   "metadata": {},
   "outputs": [],
   "source": []
  }
 ],
 "metadata": {
  "kernelspec": {
   "display_name": "Python 3 (ipykernel)",
   "language": "python",
   "name": "python3"
  },
  "language_info": {
   "codemirror_mode": {
    "name": "ipython",
    "version": 3
   },
   "file_extension": ".py",
   "mimetype": "text/x-python",
   "name": "python",
   "nbconvert_exporter": "python",
   "pygments_lexer": "ipython3",
   "version": "3.10.8"
  }
 },
 "nbformat": 4,
 "nbformat_minor": 5
}
