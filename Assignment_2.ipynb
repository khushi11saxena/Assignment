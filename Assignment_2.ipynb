{
 "cells": [
  {
   "cell_type": "code",
   "execution_count": 1,
   "id": "070e2bdb-c4eb-401c-877d-24548af5efc9",
   "metadata": {},
   "outputs": [
    {
     "name": "stdin",
     "output_type": "stream",
     "text": [
      "Enter the marks 75\n"
     ]
    },
    {
     "name": "stdout",
     "output_type": "stream",
     "text": [
      "Grade : C\n"
     ]
    }
   ],
   "source": [
    "#program to display grades by accepting the percentage\n",
    "p=int(input(\"Enter the marks\"))\n",
    "if(p>90):\n",
    "  print(\"Grade : A\")\n",
    "elif(p>80 and p<=90):\n",
    "  print(\"Grade : B\")\n",
    "elif(p>=60 and p<=80):\n",
    "  print(\"Grade : C\")\n",
    "else:\n",
    "  print(\"Grade : D\")"
   ]
  },
  {
   "cell_type": "code",
   "execution_count": 2,
   "id": "63d16869-e63f-4853-9c02-5b32d1af5b26",
   "metadata": {},
   "outputs": [
    {
     "name": "stdin",
     "output_type": "stream",
     "text": [
      "Enter the cost price: 200000\n"
     ]
    },
    {
     "name": "stdout",
     "output_type": "stream",
     "text": [
      "Road Tax @ 15% is : 30000.0\n"
     ]
    }
   ],
   "source": [
    "#program to accept the cost price of a bike and display the road tax accordingly\n",
    "cp=int(input(\"Enter the cost price:\"))\n",
    "if(cp>100000):\n",
    "       rt=cp*.15\n",
    "       print(\"Road Tax @ 15% is :\",rt)\n",
    "elif(cp>50000 and cp<=100000):\n",
    "       rt=cp*.10\n",
    "       print(\"Road Tax @ 10% is :\",rt)\n",
    "else:\n",
    "       rt=cp*.05\n",
    "       print(\"Road Tax @ 5% is :\",rt)\n"
   ]
  },
  {
   "cell_type": "code",
   "execution_count": 3,
   "id": "25ab9b7b-2698-4231-8f5b-711934aa005b",
   "metadata": {},
   "outputs": [
    {
     "name": "stdin",
     "output_type": "stream",
     "text": [
      "Enter City Name : Jaipur\n"
     ]
    },
    {
     "name": "stdout",
     "output_type": "stream",
     "text": [
      "Moument is Jal Mahal\n"
     ]
    }
   ],
   "source": [
    "#Enter city from user and display monument of city\n",
    "city=input(\"Enter City Name :\")\n",
    "if(city == \"Delhi\"):\n",
    "    print(\"Monument is Red Fort\")\n",
    "elif(city == \"Agra\"):\n",
    "    print(\"Monument is Taj Mahal\")\n",
    "elif(city == \"Jaipur\"):\n",
    "    print(\"Moument is Jal Mahal\")\n",
    "else:\n",
    "    print(\"Invalid entry\")\n",
    "    "
   ]
  },
  {
   "cell_type": "code",
   "execution_count": 2,
   "id": "c7324913-a8ac-472f-9243-cd04fcca369e",
   "metadata": {},
   "outputs": [
    {
     "name": "stdin",
     "output_type": "stream",
     "text": [
      "Enter a number 243\n"
     ]
    },
    {
     "name": "stdout",
     "output_type": "stream",
     "text": [
      "The given no 243 is divisible by 3 total 3 times before it is less than or equal to 10\n"
     ]
    }
   ],
   "source": [
    "n=int(input(\"Enter a number\"))\n",
    "num=n\n",
    "c=0\n",
    "while(num>=10):\n",
    "    if(num%3==0):\n",
    "        c=c+1\n",
    "        num=num/3\n",
    "    else:\n",
    "        break\n",
    "print(\"The given no\",n,\"is divisible by 3 total\",c,\"times before it is less than or equal to 10\")"
   ]
  },
  {
   "cell_type": "code",
   "execution_count": 6,
   "id": "5eb3ecbd-89f0-4b1f-84e1-9970dcf013e2",
   "metadata": {},
   "outputs": [
    {
     "name": "stdout",
     "output_type": "stream",
     "text": [
      " Ans: A for loop in Python is used to iterate over a sequence (such as a list, tuple, string, etc.) or other iterable object and execute a block of code for each item in the sequence.For example, consider the following code that uses a for loop to iterate over a list of numbers and print each one:\n",
      "1\n",
      "2\n",
      "4\n",
      "6\n",
      "8\n"
     ]
    }
   ],
   "source": [
    "print(\" Ans: A for loop in Python is used to iterate over a sequence (such as a list, tuple, string, etc.) or other iterable object and execute a block of code for each item in the sequence.For example, consider the following code that uses a for loop to iterate over a list of numbers and print each one:\")\n",
    "numbers=[1,2,4,6,8]\n",
    "for n in numbers:\n",
    "    print(n)"
   ]
  },
  {
   "cell_type": "code",
   "execution_count": 36,
   "id": "d3f9ef2a-9cd6-40bb-b27d-6568a4279e66",
   "metadata": {},
   "outputs": [
    {
     "name": "stdout",
     "output_type": "stream",
     "text": [
      "Pattern 1:\n",
      "*\n",
      "**\n",
      "***\n",
      "****\n",
      "*****\n",
      "Pattern 2:\n",
      "*****\n",
      "****\n",
      "***\n",
      "**\n",
      "*\n",
      "\n",
      "Pattern 3:\n",
      "1\n",
      "22\n",
      "333\n",
      "4444\n",
      "55555\n"
     ]
    }
   ],
   "source": [
    "#3 diffferent patterns using nested loop\n",
    "print(\"Pattern 1:\")\n",
    "for i in range(1,6):\n",
    "    for j in range(1,i+1):\n",
    "        print(\"*\", end=\"\") \n",
    "    print()\n",
    "print(\"Pattern 2:\")\n",
    "for i in range(1,7):\n",
    "    for j in range(i,7-1):\n",
    "        print(\"*\", end=\"\") \n",
    "    print()\n",
    "print(\"Pattern 3:\")\n",
    "for i in range(1,6):\n",
    "    for j in range(1,i+1):\n",
    "        print(i, end=\"\") \n",
    "    print()"
   ]
  },
  {
   "cell_type": "code",
   "execution_count": 32,
   "id": "622b8a36-0b8f-40e3-a6ce-658a57236ad8",
   "metadata": {},
   "outputs": [
    {
     "name": "stdout",
     "output_type": "stream",
     "text": [
      "10\n",
      "9\n",
      "8\n",
      "7\n",
      "6\n",
      "5\n",
      "4\n",
      "3\n",
      "2\n",
      "1\n"
     ]
    }
   ],
   "source": [
    "#reverse a while loop to display from 10 to 1\n",
    "n=10\n",
    "while n>=1:\n",
    "    print(n)\n",
    "    n=n-1"
   ]
  },
  {
   "cell_type": "code",
   "execution_count": 35,
   "id": "a00fa874-d490-4eef-99a1-9bc3e00d43f3",
   "metadata": {},
   "outputs": [
    {
     "name": "stdout",
     "output_type": "stream",
     "text": [
      "10 9 8 7 6 5 4 3 2 1 "
     ]
    }
   ],
   "source": [
    "#reverse a while loop to display from 10 to 1\n",
    "n=10\n",
    "while n>=1:\n",
    "    print(n,\"\", end=\"\")\n",
    "    n=n-1"
   ]
  }
 ],
 "metadata": {
  "kernelspec": {
   "display_name": "Python 3 (ipykernel)",
   "language": "python",
   "name": "python3"
  },
  "language_info": {
   "codemirror_mode": {
    "name": "ipython",
    "version": 3
   },
   "file_extension": ".py",
   "mimetype": "text/x-python",
   "name": "python",
   "nbconvert_exporter": "python",
   "pygments_lexer": "ipython3",
   "version": "3.10.8"
  }
 },
 "nbformat": 4,
 "nbformat_minor": 5
}
