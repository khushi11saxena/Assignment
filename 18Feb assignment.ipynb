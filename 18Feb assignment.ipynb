{
 "cells": [
  {
   "attachments": {},
   "cell_type": "markdown",
   "metadata": {},
   "source": [
    "Q1. What is an API? Give an example, where an API is used in real life."
   ]
  },
  {
   "attachments": {},
   "cell_type": "markdown",
   "metadata": {},
   "source": [
    "An API stands for application programming interface . It is a software with the help of which we different webstites can interct with each other.With the help of API we can code an application in a particular language and can make its communication with other different appication that are written in some other language or framework.\n",
    "API are used in almost every application and webpages :- Google Search Engine is one of the best api application example"
   ]
  },
  {
   "attachments": {},
   "cell_type": "markdown",
   "metadata": {},
   "source": [
    "Q2. Give advantages and disadvantages of using API."
   ]
  },
  {
   "attachments": {},
   "cell_type": "markdown",
   "metadata": {},
   "source": [
    "Advantage  :::::::\n",
    "Enhance Functionality of application,Faster Dvelopment,Security,Improves User Experience.\n",
    "\n",
    "\n",
    "Disadvantages  :::::\n",
    "Time-consuming process,A fixed scale is necessary,To create API, programming knowledge is necessary,Maintenance cost is very high."
   ]
  },
  {
   "attachments": {},
   "cell_type": "markdown",
   "metadata": {},
   "source": [
    "Q3. What is a Web API? Differentiate between API and Web API."
   ]
  },
  {
   "attachments": {},
   "cell_type": "markdown",
   "metadata": {},
   "source": [
    "Web API is basically follows Http protocol.It is used for providing communication interface for various websites.Google Search is an example of web API.\n",
    "\n",
    "Key differences between API and Web API:\n",
    "\n",
    "Platform: APIs can be designed for any software system, whereas Web APIs are specifically designed for web-based applications.\n",
    "\n",
    "Protocol: APIs can use a variety of protocols, whereas Web APIs are accessed using HTTP protocols.\n",
    "\n",
    "Data Formats: APIs can use a variety of data formats, whereas Web APIs often use JSON or XML to transmit data.\n",
    "\n",
    "Purpose: APIs can be used for a variety of purposes, such as accessing hardware devices, databases, or operating system functionality. Web APIs are specifically designed to provide programmatic access to web-based applications.\n",
    "\n",
    "Accessibility: APIs can be accessed by other software systems via a variety of means, such as libraries or SDKs. Web APIs are generally accessed using RESTful web services."
   ]
  },
  {
   "attachments": {},
   "cell_type": "markdown",
   "metadata": {},
   "source": [
    "Q4. Explain REST and SOAP Architecture. Mention shortcomings of SOAP."
   ]
  },
  {
   "attachments": {},
   "cell_type": "markdown",
   "metadata": {},
   "source": [
    "Rest ::\n",
    "Rest stands for Representational State Transfer . Based on Web API which uses HTTP protpcol for creating a communication , Designed to do a communication between an Application over the web.It is easiest to develop,it is scalable and flexible.\n",
    "The API designed using REST are known as RESTful services.\n",
    "\n",
    "\n",
    "SOAP ::\n",
    "It stands for Simple Object Access Protocol . Its is messaging protocol based on XML which uses WSDL.Its is light weight protocol which is best known for it security rules.\n",
    "\n",
    "\n",
    "Shortcomings of SOAP ::\n",
    "\n",
    "Complexity,Performance,Limited support for web standards,Lack of flexibility."
   ]
  },
  {
   "attachments": {},
   "cell_type": "markdown",
   "metadata": {},
   "source": [
    "Q5. Differentiate between REST and SOAP."
   ]
  },
  {
   "attachments": {},
   "cell_type": "markdown",
   "metadata": {},
   "source": [
    "1.Protocol: REST uses HTTP protocols, while SOAP uses its own messaging protocol.\n",
    "\n",
    "2.Data Format: REST typically uses JSON or XML data formats, while SOAP messages are always in XML.\n",
    "\n",
    "3.Architecture: REST is a simpler and more lightweight architecture, while SOAP is a more complex and heavyweight architecture.\n",
    "\n",
    "4.Approach: REST uses a resource-based approach, while SOAP uses a messaging-based approach.\n",
    "\n",
    "5.Statelessness: REST is designed to be stateless, while SOAP can maintain state between requests.\n",
    "\n",
    "6.Performance: REST is generally faster and more scalable than SOAP.\n",
    "\n",
    "7.Compatibility: REST is more compatible with modern web standards and architectures, while SOAP is less flexible and more rigid in its approach."
   ]
  }
 ],
 "metadata": {
  "language_info": {
   "name": "python"
  },
  "orig_nbformat": 4
 },
 "nbformat": 4,
 "nbformat_minor": 2
}
