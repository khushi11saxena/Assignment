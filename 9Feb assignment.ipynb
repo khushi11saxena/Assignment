{
 "cells": [
  {
   "cell_type": "code",
   "execution_count": 7,
   "id": "3bb133e0-0b60-473e-a837-dd17ae0df398",
   "metadata": {},
   "outputs": [
    {
     "name": "stdout",
     "output_type": "stream",
     "text": [
      "Bike\n",
      "120\n",
      "50\n"
     ]
    }
   ],
   "source": [
    "#Class named vehicle using init and self\n",
    "class Vehicle_class:\n",
    "    def __init__(self, name_of_vehicle, max_speed, average_of_vehicle):\n",
    "        self.name_of_vehicle = name_of_vehicle\n",
    "        self.max_speed = max_speed\n",
    "        self.average_of_vehicle = average_of_vehicle\n",
    "        \n",
    "v= Vehicle_class(\"Bike\", 120, 50)\n",
    "print(v.name_of_vehicle)\n",
    "print(v.max_speed)\n",
    "print(v.average_of_vehicle)"
   ]
  },
  {
   "cell_type": "code",
   "execution_count": 6,
   "id": "9a5f7fce-b06d-4a75-9662-5345c35d2e25",
   "metadata": {},
   "outputs": [
    {
     "data": {
      "text/plain": [
       "'The name of car is Toyota and its capacity is 6.'"
      ]
     },
     "execution_count": 6,
     "metadata": {},
     "output_type": "execute_result"
    }
   ],
   "source": [
    "class Vehicle_class:\n",
    "    def __init__(self, name_of_vehicle, max_speed, average_of_vehicle):\n",
    "        self.name_of_vehicle = name_of_vehicle\n",
    "        self.max_speed = max_speed\n",
    "        self.average_of_vehicle = average_of_vehicle\n",
    "class dc(Vehicle_class):\n",
    "    def seating_capacity(self,capacity):\n",
    "        return f\"The name of car is {self.name_of_vehicle} and its capacity is {capacity}.\"\n",
    "obj_car=dc(\"Toyota\",130,85)\n",
    "obj_car.seating_capacity(6)   "
   ]
  },
  {
   "cell_type": "code",
   "execution_count": 8,
   "id": "d795c7f6-2759-428f-aae8-58648e683cd5",
   "metadata": {},
   "outputs": [
    {
     "name": "stdout",
     "output_type": "stream",
     "text": [
      "Multiple or Multivalue inheritance: In this a derive class can inheritance feature from more than on base class\n",
      "Example\n",
      "This function is in Father class\n",
      "This function is in Mother class.\n"
     ]
    }
   ],
   "source": [
    "print(\"Multiple or Multivalue inheritance: In this a derive class can inheritance feature from more than on base class\")\n",
    "print(\"Example\")\n",
    "class father:\n",
    "    def t1(self):\n",
    "        print(\"This function is in Father class\") \n",
    "class mother:\n",
    "    def t2(self):\n",
    "        print(\"This function is in Mother class.\")\n",
    "class child(father,mother):\n",
    "    pass\n",
    "object= child()\n",
    "object.t1()\n",
    "object.t2()"
   ]
  },
  {
   "cell_type": "code",
   "execution_count": 14,
   "id": "197ccf26-767c-4864-9d97-a9ac4ea80c6f",
   "metadata": {},
   "outputs": [
    {
     "name": "stdout",
     "output_type": "stream",
     "text": [
      "getter and setter are methods that allow you to access and modify the values of an object's attributes. here getter allows you to get the data and setter allows to set the new value.\n",
      "Example :\n",
      "\n",
      "Default Name: Tejaswi\n"
     ]
    },
    {
     "name": "stdin",
     "output_type": "stream",
     "text": [
      "Enter your name Khushi\n"
     ]
    },
    {
     "name": "stdout",
     "output_type": "stream",
     "text": [
      "\n",
      "Your name is Set as: Khushi\n"
     ]
    }
   ],
   "source": [
    "print(\"getter and setter are methods that allow you to access and modify the values of an object's attributes. here getter allows you to get the data and setter allows to set the new value.\")\n",
    "print(\"Example :\")\n",
    "print()\n",
    "class base:\n",
    "    def __init__(self, name):\n",
    "        self._name = name\n",
    "        \n",
    "    def gn(self):\n",
    "        return self._name\n",
    "    \n",
    "    def sn(self, name):\n",
    "        self._name = name\n",
    "        \n",
    "    name = property(gn, sn)\n",
    "\n",
    "p = base(\"Tejaswi\")\n",
    "print(\"Default Name:\",p.name)\n",
    "p.name=input(\"Enter your name\")\n",
    "print()\n",
    "print(\"Your name is Set as:\",p.name)"
   ]
  },
  {
   "cell_type": "code",
   "execution_count": 28,
   "id": "c6e12a99-0d83-4182-873f-204dd943676e",
   "metadata": {},
   "outputs": [
    {
     "name": "stdout",
     "output_type": "stream",
     "text": [
      "Method overriding in Python is a feature that allows a subclass to provide a different implementation for a method that is already defined in its parent class. When a method is overridden, the subclass method is called instead of the parent class method, effectively replacing the behavior of the parent class method with the new behavior defined in the subclass.\n",
      "Example:\n",
      "\n"
     ]
    },
    {
     "data": {
      "text/plain": [
       "<bound method Name.student_name of <__main__.Name object at 0x7f4f3c4afc70>>"
      ]
     },
     "execution_count": 28,
     "metadata": {},
     "output_type": "execute_result"
    }
   ],
   "source": [
    "print(\"Method overriding in Python is a feature that allows a subclass to provide a different implementation for a method that is already defined in its parent class. When a method is overridden, the subclass method is called instead of the parent class method, effectively replacing the behavior of the parent class method with the new behavior defined in the subclass.\")\n",
    "print(\"Example:\")\n",
    "print()\n",
    "class Name:\n",
    "    def student_name(self):\n",
    "        print(\"Every student has a name\")\n",
    "        \n",
    "class Student(Name):\n",
    "    def student_name(self):\n",
    "        print(\"Student name is Shivangee\")\n",
    "        \n",
    "n=Name()        \n",
    "s = Student()\n",
    "s.student_name\n",
    "n.student_name"
   ]
  },
  {
   "cell_type": "code",
   "execution_count": null,
   "id": "89c75894-812e-4603-aaae-51fd99ddac0c",
   "metadata": {},
   "outputs": [],
   "source": []
  }
 ],
 "metadata": {
  "kernelspec": {
   "display_name": "Python 3 (ipykernel)",
   "language": "python",
   "name": "python3"
  },
  "language_info": {
   "codemirror_mode": {
    "name": "ipython",
    "version": 3
   },
   "file_extension": ".py",
   "mimetype": "text/x-python",
   "name": "python",
   "nbconvert_exporter": "python",
   "pygments_lexer": "ipython3",
   "version": "3.10.8"
  }
 },
 "nbformat": 4,
 "nbformat_minor": 5
}
