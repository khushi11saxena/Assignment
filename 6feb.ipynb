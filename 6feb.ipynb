{
 "cells": [
  {
   "cell_type": "code",
   "execution_count": 18,
   "metadata": {},
   "outputs": [
    {
     "ename": "TypeError",
     "evalue": "'int' object is not iterable",
     "output_type": "error",
     "traceback": [
      "\u001b[1;31m---------------------------------------------------------------------------\u001b[0m",
      "\u001b[1;31mTypeError\u001b[0m                                 Traceback (most recent call last)",
      "Cell \u001b[1;32mIn[18], line 34\u001b[0m\n\u001b[0;32m     30\u001b[0m     \u001b[39mreturn\u001b[39;00m product\n\u001b[0;32m     33\u001b[0m list1 \u001b[39m=\u001b[39m [\u001b[39m1\u001b[39m,\u001b[39m2\u001b[39m,\u001b[39m3\u001b[39m,\u001b[39m4\u001b[39m, [\u001b[39m44\u001b[39m,\u001b[39m55\u001b[39m,\u001b[39m66\u001b[39m, \u001b[39mTrue\u001b[39;00m], \u001b[39mFalse\u001b[39;00m, (\u001b[39m34\u001b[39m,\u001b[39m56\u001b[39m,\u001b[39m78\u001b[39m,\u001b[39m89\u001b[39m,\u001b[39m34\u001b[39m), {\u001b[39m1\u001b[39m,\u001b[39m2\u001b[39m,\u001b[39m3\u001b[39m,\u001b[39m3\u001b[39m,\u001b[39m2\u001b[39m,\u001b[39m1\u001b[39m}, {\u001b[39m1\u001b[39m:\u001b[39m34\u001b[39m, \u001b[39m\"\u001b[39m\u001b[39mkey2\u001b[39m\u001b[39m\"\u001b[39m: [\u001b[39m55\u001b[39m, \u001b[39m67\u001b[39m, \u001b[39m78\u001b[39m, \u001b[39m89\u001b[39m], \u001b[39m4\u001b[39m: (\u001b[39m45\u001b[39m,\u001b[39m22\u001b[39m, \u001b[39m61\u001b[39m, \u001b[39m34\u001b[39m)}, [\u001b[39m56\u001b[39m, \u001b[39m'\u001b[39m\u001b[39mdata science\u001b[39m\u001b[39m'\u001b[39m], \u001b[39m'\u001b[39m\u001b[39mMachine Learning\u001b[39m\u001b[39m'\u001b[39m]\n\u001b[1;32m---> 34\u001b[0m \u001b[39mprint\u001b[39m(product_of_numbers(list1))\n",
      "Cell \u001b[1;32mIn[18], line 9\u001b[0m, in \u001b[0;36mproduct_of_numbers\u001b[1;34m(lst)\u001b[0m\n\u001b[0;32m      6\u001b[0m \u001b[39mfor\u001b[39;00m elem \u001b[39min\u001b[39;00m lst:\n\u001b[0;32m      7\u001b[0m     \u001b[39m# if the element is a list or tuple, recursively call the function\u001b[39;00m\n\u001b[0;32m      8\u001b[0m     \u001b[39mif\u001b[39;00m \u001b[39misinstance\u001b[39m(elem, (\u001b[39mlist\u001b[39m, \u001b[39mtuple\u001b[39m)):\n\u001b[1;32m----> 9\u001b[0m         flat_lst \u001b[39m+\u001b[39m\u001b[39m=\u001b[39m product_of_numbers(elem)\n\u001b[0;32m     10\u001b[0m     \u001b[39m# if the element is a set, convert it to a list and recursively call the function\u001b[39;00m\n\u001b[0;32m     11\u001b[0m     \u001b[39melif\u001b[39;00m \u001b[39misinstance\u001b[39m(elem, \u001b[39mset\u001b[39m):\n",
      "\u001b[1;31mTypeError\u001b[0m: 'int' object is not iterable"
     ]
    }
   ],
   "source": [
    "def product_of_numbers(lst):\n",
    "    # create an empty list to store all the numeric values\n",
    "    flat_lst = []\n",
    "    \n",
    "    # iterate through each element of the list\n",
    "    for elem in lst:\n",
    "        # if the element is a list or tuple, recursively call the function\n",
    "        if isinstance(elem, (list, tuple)):\n",
    "            flat_lst += product_of_numbers(elem)\n",
    "        # if the element is a set, convert it to a list and recursively call the function\n",
    "        elif isinstance(elem, set):\n",
    "            flat_lst += product_of_numbers(list(elem))\n",
    "        # if the element is a dictionary, extract all the numeric keys and values and recursively call the function\n",
    "        elif isinstance(elem, dict):\n",
    "            for k, v in elem.items():\n",
    "                if isinstance(k, (int, float)):\n",
    "                    flat_lst.append(k)\n",
    "                if isinstance(v, (int, float)):\n",
    "                    flat_lst.append(v)\n",
    "        # if the element is a number, append it to the flat list\n",
    "        elif isinstance(elem, (int, float)):\n",
    "            flat_lst.append(elem)\n",
    "    \n",
    "    # calculate the product of all the numbers in the flat list\n",
    "    product = 1\n",
    "    for num in flat_lst:\n",
    "        product *= num\n",
    "    \n",
    "    # return the product\n",
    "    return product\n",
    "\n",
    "\n",
    "list1 = [1,2,3,4, [44,55,66, True], False, (34,56,78,89,34), {1,2,3,3,2,1}, {1:34, \"key2\": [55, 67, 78, 89], 4: (45,22, 61, 34)}, [56, 'data science'], 'Machine Learning']\n",
    "print(product_of_numbers(list1))\n"
   ]
  },
  {
   "cell_type": "code",
   "execution_count": 3,
   "metadata": {},
   "outputs": [
    {
     "name": "stdout",
     "output_type": "stream",
     "text": [
      "r$dzmg$gl$yvxlnv$z$wzgz$hxrvmgrhg.\n"
     ]
    }
   ],
   "source": [
    "#encryption\n",
    "def encrypt(sentence):\n",
    "    sentence = sentence.lower() # convert the input sentence to lowercase\n",
    "    output = \"\"\n",
    "    for char in sentence:\n",
    "        if char == ' ':\n",
    "            output += '$' # replace whitespace with dollar sign\n",
    "        elif char in 'abcdefghijklmnopqrstuvwxyz':\n",
    "            output += chr(122 - ord(char) + 97) # encrypt letters a to z\n",
    "        else:\n",
    "            output += char # keep punctuation marks unchanged\n",
    "    return output\n",
    "\n",
    "sentence = \"I want to become a Data Scientist.\"\n",
    "print(encrypt(sentence))"
   ]
  }
 ],
 "metadata": {
  "kernelspec": {
   "display_name": "Python 3",
   "language": "python",
   "name": "python3"
  },
  "language_info": {
   "codemirror_mode": {
    "name": "ipython",
    "version": 3
   },
   "file_extension": ".py",
   "mimetype": "text/x-python",
   "name": "python",
   "nbconvert_exporter": "python",
   "pygments_lexer": "ipython3",
   "version": "3.10.4"
  },
  "orig_nbformat": 4
 },
 "nbformat": 4,
 "nbformat_minor": 2
}
