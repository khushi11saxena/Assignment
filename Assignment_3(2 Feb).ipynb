{
 "cells": [
  {
   "cell_type": "code",
   "execution_count": 1,
   "id": "0f60bbe1-c230-472e-9966-941857b47ede",
   "metadata": {},
   "outputs": [
    {
     "name": "stdout",
     "output_type": "stream",
     "text": [
      " A for loop is used to iterate over a sequence (such as a list, tuple, or string) and execute a block of code if thegiven sequence is menttioned or specified\n",
      "Example:Printing Natural numbers till 10\n",
      "1\n",
      "2\n",
      "3\n",
      "4\n",
      "5\n",
      "6\n",
      "7\n",
      "8\n",
      "9\n",
      "10\n",
      " A while loop executes a block of code until the value or condition is True\n",
      "Example:Printing Natural no till 10\n",
      "1\n",
      "2\n",
      "3\n",
      "4\n",
      "5\n",
      "6\n",
      "7\n",
      "8\n",
      "9\n",
      "10\n"
     ]
    }
   ],
   "source": [
    "#When forand while loop is used\n",
    "print(\" A for loop is used to iterate over a sequence (such as a list, tuple, or string) and execute a block of code if thegiven sequence is menttioned or specified\")\n",
    "print(\"Example:Printing Natural numbers till 10\")\n",
    "for i in range(1,10+1):\n",
    "    print(i)\n",
    "print(\" A while loop executes a block of code until the value or condition is True\")\n",
    "print(\"Example:Printing Natural no till 10\")\n",
    "i=1\n",
    "while(i<=10):\n",
    "    print(i)\n",
    "    i=i+1\n",
    "    "
   ]
  },
  {
   "cell_type": "code",
   "execution_count": 2,
   "id": "07f7c779-35d1-49d0-b52d-fcbfc1fcaeaa",
   "metadata": {},
   "outputs": [
    {
     "name": "stdout",
     "output_type": "stream",
     "text": [
      " USING  FOR  LOOP\n",
      "Sum and product of first 10 natural numbers are \n",
      "Sum : 55\n",
      "Product: 3628800\n",
      " USING  WHILE  LOOP\n",
      "Sum and product of first 10 natural numbers are \n",
      "Sum : 55\n",
      "Product: 3628800\n"
     ]
    }
   ],
   "source": [
    "#Sum and product of first 10 natural numbers using for and while loop\n",
    "#---------------FOR------------------------------------------------\n",
    "print(\" USING  FOR  LOOP\")\n",
    "n=10\n",
    "s=0\n",
    "p=1\n",
    "for i in range (1,n+1):\n",
    "    s=s+i\n",
    "    p=p*i\n",
    "print(\"Sum and product of first 10 natural numbers are \")   \n",
    "print(\"Sum :\",s)\n",
    "print(\"Product:\",p)\n",
    "#---------------WHILE------------------------------------------------\n",
    "print(\" USING  WHILE  LOOP\")\n",
    "sm=0\n",
    "pro=1\n",
    "i=1\n",
    "while(i<=10):\n",
    "    sm=sm+i\n",
    "    pro=pro*i\n",
    "    i=i+1\n",
    "print(\"Sum and product of first 10 natural numbers are \")   \n",
    "print(\"Sum :\",s)\n",
    "print(\"Product:\",p)"
   ]
  },
  {
   "cell_type": "code",
   "execution_count": 3,
   "id": "e0d04a2a-0d35-452d-903b-ad58decbe204",
   "metadata": {},
   "outputs": [
    {
     "name": "stdin",
     "output_type": "stream",
     "text": [
      "Enter the unit used 310\n"
     ]
    },
    {
     "name": "stdout",
     "output_type": "stream",
     "text": [
      "The total electric bill is: 2250.0\n"
     ]
    }
   ],
   "source": [
    "#Program for calculating electrcity bills\n",
    "u=eval(input(\"Enter the unit used\"))\n",
    "if(u<=100):\n",
    "    bill= u*4.5\n",
    "elif(u<=200):\n",
    "    bill=(100*4.5)+((u-100)*6)\n",
    "elif(u<=300):\n",
    "    bill=(100*4.5)+(100*6)+((u-200)*10)\n",
    "else:\n",
    "    bill=(100*4.5)+(100*6)+(100*10)+((u-300)*20) \n",
    "print(\"The total electric bill is:\",bill)   "
   ]
  },
  {
   "cell_type": "code",
   "execution_count": 4,
   "id": "6f5b3c82-3712-4772-b6ff-904685f2b1ce",
   "metadata": {},
   "outputs": [
    {
     "name": "stdout",
     "output_type": "stream",
     "text": [
      "Using For Loop\n",
      "Numbers whose cube is divisible by 4 or 5 are: [2, 4, 5, 6, 8, 10, 12, 14, 15, 16, 18, 20, 22, 24, 25, 26, 28, 30, 32, 34, 35, 36, 38, 40, 42, 44, 45, 46, 48, 50, 52, 54, 55, 56, 58, 60, 62, 64, 65, 66, 68, 70, 72, 74, 75, 76, 78, 80, 82, 84, 85, 86, 88, 90, 92, 94, 95, 96, 98, 100]\n",
      "Using While Loop\n",
      "Numbers whose cube is divisible by 4 or 5 are: [2, 4, 5, 6, 8, 10, 12, 14, 15, 16, 18, 20, 22, 24, 25, 26, 28, 30, 32, 34, 35, 36, 38, 40, 42, 44, 45, 46, 48, 50, 52, 54, 55, 56, 58, 60, 62, 64, 65, 66, 68, 70, 72, 74, 75, 76, 78, 80, 82, 84, 85, 86, 88, 90, 92, 94, 95, 96, 98, 100]\n"
     ]
    }
   ],
   "source": [
    "# to find the numbers whose cube is divisible by 4or 5\n",
    "#------------FOR----------------\n",
    "print(\"Using For Loop\")\n",
    "n=[]\n",
    "for i in range(1,101):\n",
    "    c=i**3\n",
    "    if((c%4==0) or (c%5==0)):\n",
    "        n.append(i)\n",
    "print(\"Numbers whose cube is divisible by 4 or 5 are:\",n)\n",
    "#------------WHILE------------\n",
    "print(\"Using While Loop\")\n",
    "n=[]\n",
    "i=1\n",
    "while(i<=100):\n",
    "    c=i**3\n",
    "    if((c%4==0)or(c%5==0)):\n",
    "        n.append(i)\n",
    "    i=i+1\n",
    "print(\"Numbers whose cube is divisible by 4 or 5 are:\",n)"
   ]
  },
  {
   "cell_type": "code",
   "execution_count": 6,
   "id": "1af326d8-648e-4a29-82b6-65d110e29e1c",
   "metadata": {},
   "outputs": [
    {
     "name": "stdout",
     "output_type": "stream",
     "text": [
      "no of vowels in a given string : 12\n"
     ]
    }
   ],
   "source": [
    "#For counting the no of vowels in a given string\n",
    "s=\"I want to become a data scientist\"\n",
    "vowel=\"a,e,i,o,u,A,E,I,O,U\"\n",
    "c=0\n",
    "for i in s:\n",
    "    if i in vowel:\n",
    "        c=c+1\n",
    "print(\"no of vowels in a given string :\",c)    "
   ]
  }
 ],
 "metadata": {
  "kernelspec": {
   "display_name": "Python 3 (ipykernel)",
   "language": "python",
   "name": "python3"
  },
  "language_info": {
   "codemirror_mode": {
    "name": "ipython",
    "version": 3
   },
   "file_extension": ".py",
   "mimetype": "text/x-python",
   "name": "python",
   "nbconvert_exporter": "python",
   "pygments_lexer": "ipython3",
   "version": "3.10.8"
  }
 },
 "nbformat": 4,
 "nbformat_minor": 5
}
