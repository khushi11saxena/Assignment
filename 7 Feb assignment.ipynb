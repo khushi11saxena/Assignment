{
 "cells": [
  {
   "cell_type": "code",
   "execution_count": 9,
   "id": "1f130b0c-8958-48c3-a9c2-4ab76320927f",
   "metadata": {},
   "outputs": [
    {
     "name": "stdin",
     "output_type": "stream",
     "text": [
      "Password: Selena@Gmoez#123$\n"
     ]
    },
    {
     "name": "stdout",
     "output_type": "stream",
     "text": [
      "Valid Password\n"
     ]
    }
   ],
   "source": [
    "def check_password(password):\n",
    "    # Check length of password\n",
    "    if len(password) < 10:\n",
    "        return \"Invalid Password\"\n",
    "\n",
    "    # Check presence of at least two uppercase letters\n",
    "    upper_count = sum(c.isupper() for c in password)\n",
    "    if upper_count < 2:\n",
    "        return \"Invalid Password\"\n",
    "\n",
    "    # Check presence of at least two lowercase letters\n",
    "    lower_count = sum(c.islower() for c in password)\n",
    "    if lower_count < 2:\n",
    "        return \"Invalid Password\"\n",
    "\n",
    "    # Check presence of at least one number\n",
    "    if not any(c.isdigit() for c in password):\n",
    "        return \"Invalid Password\"\n",
    "\n",
    "    # Check presence of at least three special characters\n",
    "    special_count = sum(not c.isalnum() for c in password)\n",
    "    if special_count < 3:\n",
    "        return \"Invalid Password\"\n",
    "\n",
    "    # Password meets all requirements\n",
    "    return \"Valid Password\"\n",
    "passwor = input(\"Password:\")\n",
    "print(check_password(passwor))"
   ]
  },
  {
   "cell_type": "markdown",
   "id": "36514346-3157-4178-b2db-70b433a5a1f2",
   "metadata": {},
   "source": [
    "Check if the string starts with a particular letter\n"
   ]
  },
  {
   "cell_type": "code",
   "execution_count": 2,
   "id": "11e9f72e-2db9-4e45-9ad0-83f93254ed75",
   "metadata": {},
   "outputs": [
    {
     "name": "stdout",
     "output_type": "stream",
     "text": [
      "False\n"
     ]
    }
   ],
   "source": [
    "starts_with_letter = lambda x, letter: x.startswith(letter)\n",
    "print(starts_with_letter(\"Bye\", \"H\"))"
   ]
  },
  {
   "cell_type": "markdown",
   "id": "6be0abdf-aa4f-467d-8263-48cd4ec15baa",
   "metadata": {},
   "source": [
    "Check if the string is numeric"
   ]
  },
  {
   "cell_type": "code",
   "execution_count": 3,
   "id": "08bae496-24a6-4268-a5df-63d7fa3cf30e",
   "metadata": {},
   "outputs": [
    {
     "name": "stdout",
     "output_type": "stream",
     "text": [
      "True\n"
     ]
    }
   ],
   "source": [
    "is_numeric = lambda x: x.isnumeric()\n",
    "print(is_numeric(\"123\")) "
   ]
  },
  {
   "cell_type": "markdown",
   "id": "0b1b2cd1-50da-4647-aa5e-e29a3d11af93",
   "metadata": {},
   "source": [
    "Sort a list of tuples having fruit names and their quantity. [(\"mango\",99),(\"orange\",80), (\"grapes\", 1000)]"
   ]
  },
  {
   "cell_type": "code",
   "execution_count": 10,
   "id": "403957ee-b65e-48a4-b55e-6f21fd08ca43",
   "metadata": {},
   "outputs": [
    {
     "name": "stdout",
     "output_type": "stream",
     "text": [
      "[('orange', 80), ('mango', 99), ('grapes', 1000)]\n",
      "\n"
     ]
    }
   ],
   "source": [
    "l=[(\"mango\",99),(\"orange\",80), (\"grapes\", 1000)]\n",
    "sort=sorted(l,key=lambda x:x[-1])\n",
    "print(sort)\n",
    "print()"
   ]
  },
  {
   "cell_type": "markdown",
   "id": "a3467a66-06fc-43aa-b5dd-95fc3e0f548d",
   "metadata": {},
   "source": [
    "Find the squares of numbers from 1 to 10"
   ]
  },
  {
   "cell_type": "code",
   "execution_count": 12,
   "id": "a4b0288b-33a8-44cd-b7e8-13143c0800b5",
   "metadata": {},
   "outputs": [
    {
     "name": "stdout",
     "output_type": "stream",
     "text": [
      "Square: [1, 4, 9, 16, 25, 36, 49, 64, 81, 100]\n",
      "\n"
     ]
    }
   ],
   "source": [
    "l1=[1,2,3,4,5,6,7,8,9,10]\n",
    "square=list(map(lambda x:x**2,l1))\n",
    "print(\"Square:\",square)\n",
    "print()"
   ]
  },
  {
   "cell_type": "markdown",
   "id": "6c4e2249-4d99-42ca-8790-6312dd137fa9",
   "metadata": {},
   "source": [
    "Find the cube root of numbers from 1 to 10"
   ]
  },
  {
   "cell_type": "code",
   "execution_count": 16,
   "id": "1c2435a8-dc69-4aa1-834b-9359ae9dc13c",
   "metadata": {},
   "outputs": [
    {
     "name": "stdout",
     "output_type": "stream",
     "text": [
      "Square: [1.0, 1.2599210498948734, 1.4422495703074083, 1.5874010519681996, 1.7099759466766968, 1.8171205928321394, 1.9129311827723894, 2.0, 2.080083823051904, 2.1544346900318834]\n",
      "\n"
     ]
    }
   ],
   "source": [
    "import numpy\n",
    "l2=[1,2,3,4,5,6,7,8,9,10]\n",
    "square=list(map(lambda x:numpy.cbrt(x),l2))\n",
    "print(\"Square:\",square)\n",
    "print()"
   ]
  },
  {
   "cell_type": "markdown",
   "id": "04d95bb3-28d8-4181-802e-39b69a472b8d",
   "metadata": {},
   "source": [
    "Check if a given number is even"
   ]
  },
  {
   "cell_type": "code",
   "execution_count": 20,
   "id": "b9d47644-8440-404b-92fe-6ac34da85fad",
   "metadata": {},
   "outputs": [
    {
     "name": "stdout",
     "output_type": "stream",
     "text": [
      "True\n"
     ]
    }
   ],
   "source": [
    "even=lambda x:x%2==0\n",
    "print(even(208))"
   ]
  },
  {
   "cell_type": "markdown",
   "id": "0801bff4-a62f-4c16-8900-f9bb52fbc5a0",
   "metadata": {},
   "source": [
    "Sort a list of integers into positive and negative integers lists. [1,2,3,4,5,6,-1,-2,-3,-4,-5,0]"
   ]
  },
  {
   "cell_type": "code",
   "execution_count": 23,
   "id": "54e53c71-c5e2-4dc4-a4b9-a9915a187070",
   "metadata": {},
   "outputs": [
    {
     "name": "stdout",
     "output_type": "stream",
     "text": [
      "Postitive :  [1, 2, 3, 4, 5, 6]\n",
      "Negative : [-1, -2, -3, -4, -5]\n"
     ]
    }
   ],
   "source": [
    "l3=[1,2,3,4,5,6,-1,-2,-3,-4,-5,0]\n",
    "pos=list(filter(lambda x:x>0,l3))\n",
    "neg=list(filter(lambda x:x<0,l3))\n",
    "print(\"Postitive : \",pos)\n",
    "print(\"Negative :\",neg)"
   ]
  },
  {
   "cell_type": "code",
   "execution_count": null,
   "id": "c0facfc3-23ac-4475-a835-49fe75307182",
   "metadata": {},
   "outputs": [],
   "source": []
  }
 ],
 "metadata": {
  "kernelspec": {
   "display_name": "Python 3 (ipykernel)",
   "language": "python",
   "name": "python3"
  },
  "language_info": {
   "codemirror_mode": {
    "name": "ipython",
    "version": 3
   },
   "file_extension": ".py",
   "mimetype": "text/x-python",
   "name": "python",
   "nbconvert_exporter": "python",
   "pygments_lexer": "ipython3",
   "version": "3.10.8"
  }
 },
 "nbformat": 4,
 "nbformat_minor": 5
}
