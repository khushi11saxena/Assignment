{
 "cells": [
  {
   "cell_type": "code",
   "execution_count": 53,
   "metadata": {},
   "outputs": [
    {
     "name": "stdout",
     "output_type": "stream",
     "text": [
      "Ans-1: Python was created by Guido van Rossum, and first released on February 20, 1991.\n"
     ]
    }
   ],
   "source": [
    "print(\"Ans-1: Python was created by Guido van Rossum, and first released on February 20, 1991.\")\n"
   ]
  },
  {
   "cell_type": "code",
   "execution_count": 54,
   "metadata": {},
   "outputs": [
    {
     "name": "stdout",
     "output_type": "stream",
     "text": [
      "Ans-2: Object-oriented programming and structured programming are supported by python programming language.\n"
     ]
    }
   ],
   "source": [
    "print(\"Ans-2: Object-oriented programming and structured programming are supported by python programming language.\")"
   ]
  },
  {
   "cell_type": "code",
   "execution_count": 55,
   "metadata": {},
   "outputs": [
    {
     "name": "stdout",
     "output_type": "stream",
     "text": [
      "Ans-3: Yes, Python is a case-sensitive language, i.e., it treats uppercase and lowercase characters differently. This applies to identifiers too.\n"
     ]
    }
   ],
   "source": [
    "print(\"Ans-3: Yes, Python is a case-sensitive language, i.e., it treats uppercase and lowercase characters differently. This applies to identifiers too.\")"
   ]
  },
  {
   "cell_type": "code",
   "execution_count": 56,
   "metadata": {},
   "outputs": [
    {
     "name": "stdout",
     "output_type": "stream",
     "text": [
      "Ans-4: The correct extension of python file is .py\n"
     ]
    }
   ],
   "source": [
    "print(\"Ans-4: The correct extension of python file is .py\")\n"
   ]
  },
  {
   "cell_type": "code",
   "execution_count": 57,
   "metadata": {},
   "outputs": [
    {
     "name": "stdout",
     "output_type": "stream",
     "text": [
      "Ans-5: Python code is both compiled and interpreted.\n"
     ]
    }
   ],
   "source": [
    "\n",
    "print(\"Ans-5: Python code is both compiled and interpreted.\")"
   ]
  },
  {
   "cell_type": "code",
   "execution_count": 58,
   "metadata": {},
   "outputs": [
    {
     "name": "stdout",
     "output_type": "stream",
     "text": [
      "Ans-6: loops(for and while)\n",
      "\tconditional statements\n",
      "\t(if-else)functions\n"
     ]
    }
   ],
   "source": [
    "print(\"Ans-6: loops(for and while)\\n\\tconditional statements\\n\\t(if-else)functions\")"
   ]
  },
  {
   "cell_type": "code",
   "execution_count": 59,
   "metadata": {},
   "outputs": [
    {
     "name": "stdout",
     "output_type": "stream",
     "text": [
      "Ans-7: hash character(#)is used to give single_line command in python \n"
     ]
    }
   ],
   "source": [
    "print(\"Ans-7: hash character(#)is used to give single_line command in python \")"
   ]
  },
  {
   "cell_type": "code",
   "execution_count": 60,
   "metadata": {},
   "outputs": [
    {
     "name": "stdout",
     "output_type": "stream",
     "text": [
      "Ans-8: sys.version is used for finding the version of python\n"
     ]
    }
   ],
   "source": [
    "print(\"Ans-8: sys.version is used for finding the version of python\")"
   ]
  },
  {
   "cell_type": "code",
   "execution_count": 61,
   "metadata": {},
   "outputs": [
    {
     "name": "stdout",
     "output_type": "stream",
     "text": [
      "Ans-9: lambda\n"
     ]
    }
   ],
   "source": [
    "print(\"Ans-9: lambda\")"
   ]
  },
  {
   "cell_type": "code",
   "execution_count": 62,
   "metadata": {},
   "outputs": [
    {
     "name": "stdout",
     "output_type": "stream",
     "text": [
      "Ans-10: pip stands for Preferred Installer Program \n"
     ]
    }
   ],
   "source": [
    "print(\"Ans-10: pip stands for Preferred Installer Program \")"
   ]
  },
  {
   "cell_type": "code",
   "execution_count": 63,
   "metadata": {},
   "outputs": [
    {
     "name": "stdout",
     "output_type": "stream",
     "text": [
      "Ans-11: print()\n",
      "\ttype()\n",
      "\tlen()\n",
      "\tint()\n",
      "\teval()\n",
      "\tsort()\n"
     ]
    }
   ],
   "source": [
    "print(\"Ans-11: print()\\n\\ttype()\\n\\tlen()\\n\\tint()\\n\\teval()\\n\\tsort()\")"
   ]
  },
  {
   "cell_type": "code",
   "execution_count": 64,
   "metadata": {},
   "outputs": [
    {
     "name": "stdout",
     "output_type": "stream",
     "text": [
      "Ans-12: The maximum possible length of an identifier is 79 characters\n"
     ]
    }
   ],
   "source": [
    "print(\"Ans-12: The maximum possible length of an identifier is 79 characters\")"
   ]
  },
  {
   "cell_type": "code",
   "execution_count": 65,
   "metadata": {},
   "outputs": [
    {
     "name": "stdout",
     "output_type": "stream",
     "text": [
      "Ans-13: Easy to read, learn and write\n",
      "\tHigh-level language\n",
      "\tPortable and Interactive\n",
      "\tExtensive support libraries\n"
     ]
    }
   ],
   "source": [
    "print(\"Ans-13: Easy to read, learn and write\\n\\tHigh-level language\\n\\tPortable and Interactive\\n\\tExtensive support libraries\")"
   ]
  },
  {
   "cell_type": "code",
   "execution_count": 66,
   "metadata": {},
   "outputs": [
    {
     "name": "stdout",
     "output_type": "stream",
     "text": [
      "Ans-14: Memory management in Python involves a private heap containing all Python objects and data structures.\n",
      "The private heap is managed internally by the Python memory manager.\n"
     ]
    }
   ],
   "source": [
    "print(\"Ans-14: Memory management in Python involves a private heap containing all Python objects and data structures.\\nThe private heap is managed internally by the Python memory manager.\")"
   ]
  },
  {
   "cell_type": "code",
   "execution_count": 67,
   "metadata": {},
   "outputs": [
    {
     "name": "stdout",
     "output_type": "stream",
     "text": [
      "Ans-15:go to browser write python download,click python download and dowloading start.\n",
      "\tafter download go to the download folder and click on and install it.\n",
      "\tafter installation go to cmd and write python -v if python version comes then python is installed in your computer.\n",
      "\tif version is not come then you have to set the path variable.\n",
      "\tclick on start button and type environment.\n",
      "\tclick on bottom right environment variable. \n",
      "\tgo to user variable and path variable and click on it.\n",
      "\tclick on new and copy the python path where you python is installed.\n",
      "\tclick ok\n"
     ]
    }
   ],
   "source": [
    "print(\"Ans-15:go to browser write python download,click python download and dowloading start.\\n\\tafter download go to the download folder and click on and install it.\\n\\tafter installation go to cmd and write python -v if python version comes then python is installed in your computer.\\n\\tif version is not come then you have to set the path variable.\\n\\tclick on start button and type environment.\\n\\tclick on bottom right environment variable. \\n\\tgo to user variable and path variable and click on it.\\n\\tclick on new and copy the python path where you python is installed.\\n\\tclick ok\")\n"
   ]
  },
  {
   "cell_type": "code",
   "execution_count": 68,
   "metadata": {},
   "outputs": [
    {
     "name": "stdout",
     "output_type": "stream",
     "text": [
      "Ans-16: Indentation is mandatory in python to define the blocks of statements.\n",
      "\tIt is preferred to use whitespaces to indent in python.\n",
      "\twhile other programming language such as C and Java uses curly braces.\n"
     ]
    }
   ],
   "source": [
    "print(\"Ans-16: Indentation is mandatory in python to define the blocks of statements.\\n\\tIt is preferred to use whitespaces to indent in python.\\n\\twhile other programming language such as C and Java uses curly braces.\")\n"
   ]
  }
 ],
 "metadata": {
  "kernelspec": {
   "display_name": "Python 3",
   "language": "python",
   "name": "python3"
  },
  "language_info": {
   "codemirror_mode": {
    "name": "ipython",
    "version": 3
   },
   "file_extension": ".py",
   "mimetype": "text/x-python",
   "name": "python",
   "nbconvert_exporter": "python",
   "pygments_lexer": "ipython3",
   "version": "3.10.4"
  },
  "orig_nbformat": 4,
  "vscode": {
   "interpreter": {
    "hash": "ff6b308ccfed839de333a04c6376ade15f676a998234b056601c27c1e82b06c4"
   }
  }
 },
 "nbformat": 4,
 "nbformat_minor": 2
}
