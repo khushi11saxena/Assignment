{
 "cells": [
  {
   "cell_type": "code",
   "execution_count": 1,
   "id": "e285ff96-e15e-44d5-85fd-670f9ae8660f",
   "metadata": {},
   "outputs": [
    {
     "name": "stdout",
     "output_type": "stream",
     "text": [
      "[('Virat Kohli', 24936), ('Jack Kallis', 25534), ('Ricky Ponting', 27483), ('Sachin Tendulkar', 34357)]\n"
     ]
    }
   ],
   "source": [
    "#to sort a given list of tuple according to integer value\n",
    "l=[('Sachin Tendulkar',34357),('Ricky Ponting',27483),('Jack Kallis',25534),('Virat Kohli',24936)]\n",
    "sortl=sorted(l,key=lambda x:x[1])#we have written x[1] as integer value is on index 1\n",
    "print(sortl)"
   ]
  },
  {
   "cell_type": "code",
   "execution_count": 2,
   "id": "31135345-7db9-4b82-8fd2-54ec87ccf67b",
   "metadata": {},
   "outputs": [
    {
     "name": "stdout",
     "output_type": "stream",
     "text": [
      "Square: [1, 4, 9, 16, 25, 36, 49, 64, 81, 100]\n"
     ]
    }
   ],
   "source": [
    "#sauare of all the numbers using lambda and map\n",
    "l1=[1,2,3,4,5,6,7,8,9,10]\n",
    "square=list(map(lambda x:x**2,l1))\n",
    "print(\"Square:\",square)"
   ]
  },
  {
   "cell_type": "code",
   "execution_count": 3,
   "id": "09ec6b64-0cc0-409e-8d83-64a5362aad07",
   "metadata": {},
   "outputs": [
    {
     "name": "stdout",
     "output_type": "stream",
     "text": [
      "Tuple for a characters is ('1', '2', '3', '4', '5', '6', '7', '8', '9', '10')\n"
     ]
    }
   ],
   "source": [
    "#list of int to tuple\n",
    "l2=[1,2,3,4,5,6,7,8,9,10]\n",
    "tu=tuple(map(lambda x:str(x),l2))\n",
    "print(\"Tuple for a characters is\",tu)"
   ]
  },
  {
   "cell_type": "code",
   "execution_count": 4,
   "id": "5b88fd85-7c3b-4a99-92ea-e58d20f52caa",
   "metadata": {},
   "outputs": [
    {
     "name": "stdout",
     "output_type": "stream",
     "text": [
      "Product of the numbers 15511210043330985984000000\n"
     ]
    }
   ],
   "source": [
    "#product of all the numbers from 1 to 25\n",
    "from functools import reduce\n",
    "l4=[]\n",
    "for i in range (1,26):\n",
    "     l4.append(i)\n",
    "pro=reduce(lambda x,y:x*y,l4)\n",
    "print(\"Product of the numbers\",pro)"
   ]
  },
  {
   "cell_type": "code",
   "execution_count": 5,
   "id": "fa2c5fa1-5fc3-44d2-a963-593ad3a9dce2",
   "metadata": {},
   "outputs": [
    {
     "name": "stdout",
     "output_type": "stream",
     "text": [
      "numbers are: [6, 60, 90, 120]\n"
     ]
    }
   ],
   "source": [
    "#for findidng a no which are divisible by 2 and 3\n",
    "l3=[2,3,6,9,27,60,90,120,55,46]\n",
    "div=list(filter(lambda x:x%2==0 and x%3==0,l3))\n",
    "print(\"numbers are:\",div)"
   ]
  },
  {
   "cell_type": "code",
   "execution_count": 6,
   "id": "c8ef3f7e-7fa0-475a-a9f7-82aa08bbf07a",
   "metadata": {},
   "outputs": [
    {
     "name": "stdout",
     "output_type": "stream",
     "text": [
      "Palindrome strings are: ['php', 'aba', 'radar', 'level']\n"
     ]
    }
   ],
   "source": [
    "#for finding the palindrome strings\n",
    "l5=['python','php','aba','radar','level']\n",
    "pal=list(filter(lambda x:x==x[::-1],l5))\n",
    "print(\"Palindrome strings are:\",pal)"
   ]
  }
 ],
 "metadata": {
  "kernelspec": {
   "display_name": "Python 3 (ipykernel)",
   "language": "python",
   "name": "python3"
  },
  "language_info": {
   "codemirror_mode": {
    "name": "ipython",
    "version": 3
   },
   "file_extension": ".py",
   "mimetype": "text/x-python",
   "name": "python",
   "nbconvert_exporter": "python",
   "pygments_lexer": "ipython3",
   "version": "3.10.8"
  }
 },
 "nbformat": 4,
 "nbformat_minor": 5
}
