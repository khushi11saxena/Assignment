{
 "cells": [
  {
   "cell_type": "code",
   "execution_count": 1,
   "id": "f369d824-9592-4e3f-83ae-d332a4ec0c0a",
   "metadata": {},
   "outputs": [
    {
     "name": "stdout",
     "output_type": "stream",
     "text": [
      "Class is a template for creating objects, providing initial values for state, and implementations of methods .\n",
      "\n",
      "Object is an instance of a Class. It is a basic unit of OOPs and represents a real-world entity with its properties and behavior.\n"
     ]
    }
   ],
   "source": [
    "#explain the class and object with respect to oops\n",
    "print(\"Class is a template for creating objects, providing initial values for state, and implementations of methods .\")\n",
    "print()\n",
    "print(\"Object is an instance of a Class. It is a basic unit of OOPs and represents a real-world entity with its properties and behavior.\")"
   ]
  },
  {
   "cell_type": "code",
   "execution_count": 2,
   "id": "5463d502-0236-407d-b38c-0ad8d7d1779e",
   "metadata": {},
   "outputs": [
    {
     "name": "stdout",
     "output_type": "stream",
     "text": [
      "The four pillars of Object-Oriented Programming (OOP) are:\n",
      " Encapsulation\n",
      " Abstraction\n",
      " Inheritance\n",
      " Polymorphism\n"
     ]
    }
   ],
   "source": [
    "print(\"The four pillars of Object-Oriented Programming (OOP) are:\")\n",
    "print(\" Encapsulation\")\n",
    "print(\" Abstraction\")\n",
    "print(\" Inheritance\")\n",
    "print(\" Polymorphism\")"
   ]
  },
  {
   "cell_type": "code",
   "execution_count": 3,
   "id": "890899e9-b761-4bd8-97f5-4f51df501905",
   "metadata": {},
   "outputs": [
    {
     "name": "stdout",
     "output_type": "stream",
     "text": [
      "The purpose of the __init__ method is to initialize the attributes of the class, and to set their default values\n",
      "Example\n",
      "12\n",
      "Lakshya\n"
     ]
    }
   ],
   "source": [
    "print(\"The purpose of the __init__ method is to initialize the attributes of the class, and to set their default values\")\n",
    "print(\"Example\")\n",
    "class Student:\n",
    "    def __init__(self, rollno, name):\n",
    "        self.rollno = rollno\n",
    "        self.name = name\n",
    "std = Student(12, \"Lakshya\")\n",
    "print(std.rollno)\n",
    "print(std.name)"
   ]
  },
  {
   "cell_type": "code",
   "execution_count": 4,
   "id": "2ed071a9-2362-4a68-8108-4f277a057354",
   "metadata": {},
   "outputs": [
    {
     "name": "stdout",
     "output_type": "stream",
     "text": [
      "The purpose of the __init__ method is to initialize the attributes of the class, and to set their default values\n",
      "Example\n",
      "Hello ! My name is Lakshya\n"
     ]
    }
   ],
   "source": [
    "print(\"The purpose of the __init__ method is to initialize the attributes of the class, and to set their default values\")\n",
    "print(\"Example\")\n",
    "class Student:\n",
    "    def __init__(self, rollno, name):\n",
    "        self.rollno = rollno\n",
    "        self.name = name\n",
    "    def hello(self):\n",
    "        print(\"Hello ! My name is Lakshya\".format(self.name))\n",
    "std = Student(12, \"Lakshya\")\n",
    "std.hello() "
   ]
  },
  {
   "cell_type": "code",
   "execution_count": 5,
   "id": "6bdacc86-b8c0-42aa-bcf9-7748cdb7c837",
   "metadata": {},
   "outputs": [
    {
     "name": "stdout",
     "output_type": "stream",
     "text": [
      "Inheritance is a property of Object Oriented Programming by which we one class can inherit properties or behavior from another class:\n",
      "Types of Inheritance:\n",
      "\n",
      "Single inheritance : It enables a derived class to inherit properties from a single parent class\n",
      "Example\n",
      "This function is in parent class\n",
      "This function is in child class.\n",
      "\n",
      "Multilevel inheritance: In the features of the base class and the derived class are further inherited into the new derived class\n",
      "Example\n",
      "This function is in base class\n",
      "This function is in intermediator class.\n",
      "\n",
      "Multivalue inheritance: In this a derive class can inheritance feature from more than on base class\n",
      "Example\n",
      "This function is in Father class\n",
      "This function is in Mother class.\n"
     ]
    }
   ],
   "source": [
    "print(\"Inheritance is a property of Object Oriented Programming by which we one class can inherit properties or behavior from another class:\")\n",
    "print(\"Types of Inheritance:\")\n",
    "print()\n",
    "print(\"Single inheritance : It enables a derived class to inherit properties from a single parent class\")\n",
    "print(\"Example\")\n",
    "class cl1:\n",
    "    def test1(self):\n",
    "        print(\"This function is in parent class\") \n",
    "class cl2(cl1):\n",
    "    def test2(self):\n",
    "        print(\"This function is in child class.\")\n",
    "object = cl2()\n",
    "object.test1()\n",
    "object.test2()\n",
    "print()\n",
    "print(\"Multilevel inheritance: In the features of the base class and the derived class are further inherited into the new derived class\")\n",
    "print(\"Example\")\n",
    "class cl1:\n",
    "    def test1(self):\n",
    "        print(\"This function is in base class\") \n",
    "class cl2(cl1):\n",
    "    def test2(self):\n",
    "        print(\"This function is in intermediator class.\")\n",
    "class cl3(cl2):\n",
    "    pass\n",
    "object = cl3()\n",
    "object.test1()\n",
    "object.test2()\n",
    "print()\n",
    "print(\"Multivalue inheritance: In this a derive class can inheritance feature from more than on base class\")\n",
    "print(\"Example\")\n",
    "class father:\n",
    "    def t1(self):\n",
    "        print(\"This function is in Father class\") \n",
    "class mother:\n",
    "    def t2(self):\n",
    "        print(\"This function is in Mother class.\")\n",
    "class child(father,mother):\n",
    "    pass\n",
    "object= child()\n",
    "object.t1()\n",
    "object.t2()"
   ]
  }
 ],
 "metadata": {
  "kernelspec": {
   "display_name": "Python 3 (ipykernel)",
   "language": "python",
   "name": "python3"
  },
  "language_info": {
   "codemirror_mode": {
    "name": "ipython",
    "version": 3
   },
   "file_extension": ".py",
   "mimetype": "text/x-python",
   "name": "python",
   "nbconvert_exporter": "python",
   "pygments_lexer": "ipython3",
   "version": "3.10.8"
  }
 },
 "nbformat": 4,
 "nbformat_minor": 5
}
