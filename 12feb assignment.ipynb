{
 "cells": [
  {
   "cell_type": "markdown",
   "id": "84b9c7ac-d9b7-4c57-afa1-fc85f0ca244e",
   "metadata": {},
   "source": [
    "Ans-1) An exception in Python is an event, which occurs during the execution of a program that disrupts the normal flow of the program's instructions. Exceptions are raised when a program encounters a runtime error, such as division by zero, accessing an index that is out of range, or trying to open a file that does not exist.\n",
    "\n",
    "Exceptions and syntax errors are two different types of errors in Python.\n",
    "\n",
    "A syntax error occurs when the code written is not valid according to the syntax rules of the language. For example, if you forget to close a parenthesis, or if you use the wrong type of quotes in a string, Python will raise a syntax error. These errors are usually easy to spot and fix, as they prevent the code from running.\n",
    "\n",
    "An exception, on the other hand, occurs when the code is syntactically correct but encounters an error during execution. Unlike syntax errors, exceptions can be caught and handled using try-except blocks. This allows you to write code that can gracefully handle runtime errors, making your code more robust and user-friendly.\n",
    "\n",
    "."
   ]
  },
  {
   "cell_type": "markdown",
   "id": "8f830252-4199-4bbf-bb4e-d406b015c787",
   "metadata": {},
   "source": [
    "\n",
    "\n",
    "Ans-2) When an exception is not handled, the program will stop executing immediately and raise an unhandled exception. The traceback of the error will be displayed, showing the line of code that caused the exception and the type of the exception."
   ]
  },
  {
   "cell_type": "code",
   "execution_count": 1,
   "id": "d7942512-bcf5-41a9-9f7e-ac95eba2a587",
   "metadata": {},
   "outputs": [
    {
     "name": "stdout",
     "output_type": "stream",
     "text": [
      "25.0\n",
      "Cannot divide by zero\n"
     ]
    }
   ],
   "source": [
    "def divide(a, b):\n",
    "    try:\n",
    "        return a / b\n",
    "    except ZeroDivisionError:\n",
    "        return \"Cannot divide by zero\"\n",
    "\n",
    "print(divide(50, 2))\n",
    "print(divide(5, 0))"
   ]
  },
  {
   "cell_type": "markdown",
   "id": "e8dbbe5a-07e7-4512-92f9-0f889be2e84d",
   "metadata": {},
   "source": [
    "Ans-3) In Python, the try and except statements are used to catch and handle exceptions. For example, consider the following code:"
   ]
  },
  {
   "cell_type": "code",
   "execution_count": 3,
   "id": "e6fe0f7c-715a-42a2-8204-9ba3f311543a",
   "metadata": {},
   "outputs": [
    {
     "name": "stdout",
     "output_type": "stream",
     "text": [
      "25.0\n",
      "Cannot divide by zero\n"
     ]
    }
   ],
   "source": [
    "def divide(a, b):\n",
    "    try:\n",
    "        return a / b\n",
    "    except ZeroDivisionError:\n",
    "        return \"Cannot divide by zero\"\n",
    "\n",
    "print(divide(50, 2))\n",
    "print(divide(5, 0))"
   ]
  },
  {
   "cell_type": "markdown",
   "id": "490b7306-6dca-4b4f-9c64-a3b439116da2",
   "metadata": {},
   "source": [
    "Ans-4) (a) We can use the try, except, else, and finally statements to handle exceptions. The try and except statements work as described in the previous answer, but the else and finally statements provide additional functionality.\n",
    "\n",
    "The else block is executed if no exception is raised in the try block. For example:\n"
   ]
  },
  {
   "cell_type": "code",
   "execution_count": 4,
   "id": "d8ec313f-36a1-4426-9e7d-446fbfd9fe41",
   "metadata": {},
   "outputs": [
    {
     "name": "stdout",
     "output_type": "stream",
     "text": [
      "2.5\n",
      "Cannot divide by zero\n"
     ]
    }
   ],
   "source": [
    "def divide(a, b):\n",
    "    try:\n",
    "        result = a / b\n",
    "    except ZeroDivisionError:\n",
    "        return \"Cannot divide by zero\"\n",
    "    else:\n",
    "        return result\n",
    "\n",
    "print(divide(5, 2))\n",
    "print(divide(5, 0))"
   ]
  },
  {
   "cell_type": "markdown",
   "id": "11c3b4fd-3c94-484e-82a6-ad8704d1cc06",
   "metadata": {},
   "source": [
    "(b) The finally block is executed regardless of whether an exception was raised or not. For example:"
   ]
  },
  {
   "cell_type": "code",
   "execution_count": 5,
   "id": "1bec3fa4-d03f-4fe2-b2ee-cebb4510c3b0",
   "metadata": {},
   "outputs": [
    {
     "name": "stdout",
     "output_type": "stream",
     "text": [
      "The operation has completed.\n",
      "2.5\n",
      "The operation has completed.\n",
      "Cannot divide by zero\n"
     ]
    }
   ],
   "source": [
    "def divide(a, b):\n",
    "    try:\n",
    "        result = a / b\n",
    "    except ZeroDivisionError:\n",
    "        return \"Cannot divide by zero\"\n",
    "    else:\n",
    "        return result\n",
    "    finally:\n",
    "        print(\"The operation has completed.\")\n",
    "\n",
    "print(divide(5, 2))\n",
    "print(divide(5, 0))"
   ]
  },
  {
   "cell_type": "markdown",
   "id": "e0f62a6c-8a4e-4bf3-907d-5967a78ba54e",
   "metadata": {},
   "source": [
    "(c) We can raise an exception using the raise statement. This allows you to signal that an error has occurred and stop the normal execution of your program. For example:"
   ]
  },
  {
   "cell_type": "code",
   "execution_count": 6,
   "id": "7d44642d-3625-4fe9-997e-50e12086be95",
   "metadata": {},
   "outputs": [
    {
     "name": "stdout",
     "output_type": "stream",
     "text": [
      "5\n"
     ]
    },
    {
     "ename": "ValueError",
     "evalue": "The value is negative",
     "output_type": "error",
     "traceback": [
      "\u001b[0;31m---------------------------------------------------------------------------\u001b[0m",
      "\u001b[0;31mValueError\u001b[0m                                Traceback (most recent call last)",
      "Cell \u001b[0;32mIn[6], line 7\u001b[0m\n\u001b[1;32m      4\u001b[0m     \u001b[38;5;28;01mreturn\u001b[39;00m n\n\u001b[1;32m      6\u001b[0m \u001b[38;5;28mprint\u001b[39m(positive_number(\u001b[38;5;241m5\u001b[39m))\n\u001b[0;32m----> 7\u001b[0m \u001b[38;5;28mprint\u001b[39m(\u001b[43mpositive_number\u001b[49m\u001b[43m(\u001b[49m\u001b[38;5;241;43m-\u001b[39;49m\u001b[38;5;241;43m5\u001b[39;49m\u001b[43m)\u001b[49m)\n",
      "Cell \u001b[0;32mIn[6], line 3\u001b[0m, in \u001b[0;36mpositive_number\u001b[0;34m(n)\u001b[0m\n\u001b[1;32m      1\u001b[0m \u001b[38;5;28;01mdef\u001b[39;00m \u001b[38;5;21mpositive_number\u001b[39m(n):\n\u001b[1;32m      2\u001b[0m     \u001b[38;5;28;01mif\u001b[39;00m n \u001b[38;5;241m<\u001b[39m \u001b[38;5;241m0\u001b[39m:\n\u001b[0;32m----> 3\u001b[0m         \u001b[38;5;28;01mraise\u001b[39;00m \u001b[38;5;167;01mValueError\u001b[39;00m(\u001b[38;5;124m\"\u001b[39m\u001b[38;5;124mThe value is negative\u001b[39m\u001b[38;5;124m\"\u001b[39m)\n\u001b[1;32m      4\u001b[0m     \u001b[38;5;28;01mreturn\u001b[39;00m n\n",
      "\u001b[0;31mValueError\u001b[0m: The value is negative"
     ]
    }
   ],
   "source": [
    "def positive_number(n):\n",
    "    if n < 0:\n",
    "        raise ValueError(\"The value is negative\")\n",
    "    return n\n",
    "\n",
    "print(positive_number(5))\n",
    "print(positive_number(-5))"
   ]
  },
  {
   "cell_type": "code",
   "execution_count": null,
   "id": "c34695f1-5deb-451f-89b3-5a40bbbcf924",
   "metadata": {},
   "outputs": [],
   "source": [
    "Ans-5) Custom exceptions are user-defined exceptions that can be raised and caught just like built-in exceptions. Custom exceptions allow us to indicate specific error conditions that are relevant to your application and provide more meaningful error messages to help diagnose and fix issues."
   ]
  }
 ],
 "metadata": {
  "kernelspec": {
   "display_name": "Python 3 (ipykernel)",
   "language": "python",
   "name": "python3"
  },
  "language_info": {
   "codemirror_mode": {
    "name": "ipython",
    "version": 3
   },
   "file_extension": ".py",
   "mimetype": "text/x-python",
   "name": "python",
   "nbconvert_exporter": "python",
   "pygments_lexer": "ipython3",
   "version": "3.10.8"
  }
 },
 "nbformat": 4,
 "nbformat_minor": 5
}
