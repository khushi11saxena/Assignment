{
 "cells": [
  {
   "cell_type": "code",
   "execution_count": null,
   "id": "7b3196a8-8b71-4e12-ab15-198010967c31",
   "metadata": {},
   "outputs": [],
   "source": [
    "(1)What is Abstraction in OOps? Explain with an example.\n",
    "\n",
    "Abstraction in object-oriented programming (OOP) is a technique for hiding the implementation details of a class, and exposing only the relevant information to the users. It provides a simplified view of the object to the users by hiding the underlying complexities.\n",
    "\n",
    "Abstraction helps to separate the implementation details from the interface, making it easier to change the implementation without affecting the users of the object. This allows for greater flexibility and modularity in designing and maintaining the code.\n",
    "\n",
    "For example, consider a car class in an object-oriented program. The car class can have various attributes such as make, model, color, engine type, etc.\n"
   ]
  },
  {
   "cell_type": "code",
   "execution_count": null,
   "id": "c89a3992-1d6e-4462-844f-5d47a6334fa2",
   "metadata": {},
   "outputs": [],
   "source": [
    "(2) Differentiate between Abstraction and Encapsulation. Explain with an example\n",
    "\n",
    "Abstraction refers to the process of hiding the complexity of a system by exposing only the relevant information to the users. It provides a simplified view of the object by hiding the underlying complexities. Abstraction is used to focus on the essential features of an object, and to ignore the irrelevant details.\n",
    "\n",
    "Encapsulation, on the other hand, refers to the process of wrapping data and functions within an object, making them inaccessible to the outside world. Encapsulation is used to protect the data and behavior of an object from being modified by external entities. It allows objects to control their own state and behavior, making the code more modular and easier to maintain\n",
    "\n",
    "An example of abstraction and encapsulation in OOP could be a bank account class. The bank account class can have various attributes such as account number, account holder name, and balance. The user of the bank account class is only interested in performing operations such as deposit, withdraw, and checking the balance."
   ]
  },
  {
   "cell_type": "code",
   "execution_count": null,
   "id": "be75121d-bf36-4345-9e77-d050c0f44b00",
   "metadata": {},
   "outputs": [],
   "source": [
    "(3) What is abc module in python? Why is it used?\n",
    "\n",
    "The abc (Abstract Base Class) module in Python is a module that provides support for abstract base classes.\n",
    "\n",
    "By using the abc module, you can define abstract base classes and enforce that subclasses implement certain methods. This helps to enforce a common interface for a group of related classes, making it easier to write generic code that works with instances of those classes."
   ]
  },
  {
   "cell_type": "code",
   "execution_count": null,
   "id": "981247dc-6a48-4736-b412-71892a0435bf",
   "metadata": {},
   "outputs": [],
   "source": [
    "(4) How can we achieve data abstraction?\n",
    "\n",
    "Data abstraction is achieved in programming languages by using certain techniques that allow you to hide the implementation details of data structures and algorithms, and expose only the relevant information to the users. \n",
    "\n",
    "Here are some methodes for achiveing data abstraction:\n",
    "    1.Encapsulation\n",
    "    2.Interfaces\n",
    "    3.Abstract Classes\n"
   ]
  },
  {
   "cell_type": "code",
   "execution_count": null,
   "id": "6b07626e-2961-4893-9d96-499e8ccb9f4e",
   "metadata": {},
   "outputs": [],
   "source": [
    "(5) Can we create an instance of an abstract class? Explain your answer\n",
    "\n",
    "No,we can not create instance of an abstract class"
   ]
  }
 ],
 "metadata": {
  "kernelspec": {
   "display_name": "Python 3 (ipykernel)",
   "language": "python",
   "name": "python3"
  },
  "language_info": {
   "codemirror_mode": {
    "name": "ipython",
    "version": 3
   },
   "file_extension": ".py",
   "mimetype": "text/x-python",
   "name": "python",
   "nbconvert_exporter": "python",
   "pygments_lexer": "ipython3",
   "version": "3.10.8"
  }
 },
 "nbformat": 4,
 "nbformat_minor": 5
}
