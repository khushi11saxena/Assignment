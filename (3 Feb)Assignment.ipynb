{
 "cells": [
  {
   "cell_type": "code",
   "execution_count": 2,
   "id": "adc32753-1cd8-4576-bdd3-166a7fe5ac96",
   "metadata": {},
   "outputs": [
    {
     "name": "stdout",
     "output_type": "stream",
     "text": [
      "The keyword used to create a function in Python is 'def'\n",
      "List of odd no is: [1, 3, 5, 7, 9, 11, 13, 15, 17, 19, 21, 23, 25]\n"
     ]
    }
   ],
   "source": [
    "print(\"The keyword used to create a function in Python is 'def'\")\n",
    "n=[]\n",
    "for i in range(1,26):\n",
    "    if ((i%2)!=0):\n",
    "        n.append(i)\n",
    "print(\"List of odd no is:\",n)        "
   ]
  },
  {
   "cell_type": "code",
   "execution_count": 6,
   "id": "145d864e-bd06-45d8-aa46-698f597ca08a",
   "metadata": {},
   "outputs": [
    {
     "name": "stdout",
     "output_type": "stream",
     "text": [
      " *args is used to pass a non-keyworded, variable-length argument list to the function. It allows you to pass an arbitrary number of arguments as a list.**kwargs is used to pass keyworded, variable-length arguments to the function. It allows you to pass an arbitrary number of keyword arguments as a dictionary.\n",
      "\n",
      "Example of *args \n",
      "Hello\n",
      "I\n",
      "am\n",
      "learning\n",
      "python\n",
      "\n",
      "Example of **kwargs \n",
      "first == Python\n",
      "mid == for\n",
      "last == Data Science\n"
     ]
    }
   ],
   "source": [
    "print(\" *args is used to pass a non-keyworded, variable-length argument list to the function. It allows you to pass an arbitrary number of arguments as a list.**kwargs is used to pass keyworded, variable-length arguments to the function. It allows you to pass an arbitrary number of keyword arguments as a dictionary.\")\n",
    "print()\n",
    "print(\"Example of *args \")\n",
    "def myFun(*argv):\n",
    "    for arg in argv:\n",
    "        print(arg)\n",
    "myFun('Hello', 'I', 'am', 'learning','python')\n",
    "print()\n",
    "print(\"Example of **kwargs \")\n",
    "def myFun(**kwargs):\n",
    "    for key, value in kwargs.items():\n",
    "        print(\"%s == %s\" % (key, value))\n",
    "myFun(first='Python', mid='for', last='Data Science')"
   ]
  },
  {
   "cell_type": "code",
   "execution_count": 1,
   "id": "9420c3da-1211-4336-8c79-88969ece2481",
   "metadata": {},
   "outputs": [
    {
     "name": "stdout",
     "output_type": "stream",
     "text": [
      "Iterator in Python is an object that is used to iterate over iterable objects like lists, tuples, dicts, and sets. The iterator object is initialized using the iter() method. It uses the next() method for iteration.\n",
      "2\n",
      "4\n",
      "6\n",
      "8\n"
     ]
    }
   ],
   "source": [
    "print(\"Iterator in Python is an object that is used to iterate over iterable objects like lists, tuples, dicts, and sets. The iterator object is initialized using the iter() method. It uses the next() method for iteration.\")\n",
    "li=[2,4,6,8,10,12,14,16,18,20]\n",
    "ito=iter(li)\n",
    "print(next(ito))\n",
    "print(next(ito))\n",
    "print(next(ito))\n",
    "print(next(ito))"
   ]
  },
  {
   "cell_type": "code",
   "execution_count": 2,
   "id": "c2178de5-29b4-4db7-baa5-3b2c6cb04b9b",
   "metadata": {},
   "outputs": [
    {
     "name": "stdout",
     "output_type": "stream",
     "text": [
      "A generator function in Python is a special type of function that returns a generator iterator, which can be used to iterate over a sequence of values. Unlike normal functions, generator functions do not return a value with the return statement. Instead, they use the yield keyword to return a value.The yield keyword is used in a generator function to return a value and pause the function's execution.\n",
      "Example of generator\n",
      "1\n",
      "2\n",
      "3\n"
     ]
    }
   ],
   "source": [
    "print(\"A generator function in Python is a special type of function that returns a generator iterator, which can be used to iterate over a sequence of values. Unlike normal functions, generator functions do not return a value with the return statement. Instead, they use the yield keyword to return a value.The yield keyword is used in a generator function to return a value and pause the function's execution.\")\n",
    "print(\"Example of generator\")\n",
    "def genf():\n",
    "    yield 1           \n",
    "    yield 2           \n",
    "    yield 3           \n",
    "for i in genf():\n",
    "    print(i)"
   ]
  },
  {
   "cell_type": "code",
   "execution_count": 2,
   "id": "3d6d8806-cac3-4ecb-8f6c-2d0ef657ba3b",
   "metadata": {},
   "outputs": [
    {
     "name": "stdout",
     "output_type": "stream",
     "text": [
      "2\n",
      "3\n",
      "5\n",
      "7\n",
      "11\n",
      "13\n",
      "17\n",
      "19\n",
      "23\n",
      "29\n",
      "31\n",
      "37\n",
      "41\n",
      "43\n",
      "47\n",
      "53\n",
      "59\n",
      "61\n",
      "67\n",
      "71\n"
     ]
    }
   ],
   "source": [
    "def prime(num):\n",
    "    for i in range(2, num):\n",
    "        for j in range(2, int(i**0.5)+1):\n",
    "            if i % j == 0:\n",
    "                break\n",
    "        else:\n",
    "            yield i\n",
    "\n",
    "# Initialize the generator object\n",
    "prime_gen = prime(1000)\n",
    "\n",
    "# Print the first 20 prime numbers\n",
    "for i in range(20):\n",
    "    print(next(prime_gen))"
   ]
  },
  {
   "cell_type": "code",
   "execution_count": 5,
   "id": "aab6541b-70c9-4d1a-99fc-cf5faf788837",
   "metadata": {},
   "outputs": [
    {
     "name": "stdout",
     "output_type": "stream",
     "text": [
      "10 terms of the fibonacci series are:\n",
      "[0, 1, 1, 2, 3, 5, 8, 13, 21, 34]\n"
     ]
    }
   ],
   "source": [
    "fib= [0, 1]\n",
    "n = 10\n",
    "t = 3\n",
    "while t < n+ 1:\n",
    "    value = fib[t- 2] + fib[t - 3]\n",
    "    fib.append(value)\n",
    "    t = t + 1\n",
    "print(\"10 terms of the fibonacci series are:\")\n",
    "print(fib)"
   ]
  },
  {
   "cell_type": "code",
   "execution_count": 15,
   "id": "8df65f29-fc7b-4ff0-8cc3-7f3bce013a33",
   "metadata": {},
   "outputs": [
    {
     "name": "stdout",
     "output_type": "stream",
     "text": [
      "['p', 'w', 's', 'k', 'i', 'l', 'l', 's']\n"
     ]
    }
   ],
   "source": [
    "s=\"pwskills\"\n",
    "r=[char for char in s]\n",
    "print(r) "
   ]
  },
  {
   "cell_type": "code",
   "execution_count": 24,
   "id": "01fb5b8c-a5cc-4282-9206-055804c247db",
   "metadata": {},
   "outputs": [
    {
     "name": "stdin",
     "output_type": "stream",
     "text": [
      "Enter a number 1223221\n"
     ]
    },
    {
     "name": "stdout",
     "output_type": "stream",
     "text": [
      "Palindrome\n"
     ]
    }
   ],
   "source": [
    "n=int(input(\"Enter a number\"))\n",
    "num=n\n",
    "rev=0\n",
    "while(n>0):\n",
    "    d=n%10\n",
    "    rev=rev*10+d\n",
    "    n=n//10\n",
    "if(num==rev):\n",
    "    print(\"Palindrome\")\n",
    "else:\n",
    "    print(\"Not Palindrome\")    "
   ]
  },
  {
   "cell_type": "code",
   "execution_count": 26,
   "id": "f6d8ccfe-1c8c-4d95-a3c2-93be7ac4995d",
   "metadata": {},
   "outputs": [
    {
     "ename": "TypeError",
     "evalue": "unsupported operand type(s) for %: 'list' and 'int'",
     "output_type": "error",
     "traceback": [
      "\u001b[0;31m---------------------------------------------------------------------------\u001b[0m",
      "\u001b[0;31mTypeError\u001b[0m                                 Traceback (most recent call last)",
      "Cell \u001b[0;32mIn[26], line 2\u001b[0m\n\u001b[1;32m      1\u001b[0m n\u001b[38;5;241m=\u001b[39m[x \u001b[38;5;28;01mfor\u001b[39;00m x \u001b[38;5;129;01min\u001b[39;00m \u001b[38;5;28mrange\u001b[39m(\u001b[38;5;241m1\u001b[39m,\u001b[38;5;241m101\u001b[39m)]\n\u001b[0;32m----> 2\u001b[0m odd\u001b[38;5;241m=\u001b[39m[x \u001b[38;5;28;01mfor\u001b[39;00m x \u001b[38;5;129;01min\u001b[39;00m \u001b[38;5;28mrange\u001b[39m(\u001b[43mn\u001b[49m\u001b[38;5;241;43m%\u001b[39;49m\u001b[38;5;241;43m2\u001b[39;49m\u001b[38;5;241m!=\u001b[39m\u001b[38;5;241m0\u001b[39m)]\n\u001b[1;32m      3\u001b[0m \u001b[38;5;28mprint\u001b[39m(odd)\n",
      "\u001b[0;31mTypeError\u001b[0m: unsupported operand type(s) for %: 'list' and 'int'"
     ]
    }
   ],
   "source": [
    "n=[x for x in range(1,101)]\n",
    "odd=[x for x in range(n%2!=0)]\n",
    "print(odd)"
   ]
  },
  {
   "cell_type": "code",
   "execution_count": null,
   "id": "14e2bf77-7e33-46d7-a25c-55d623ab628a",
   "metadata": {},
   "outputs": [],
   "source": []
  }
 ],
 "metadata": {
  "kernelspec": {
   "display_name": "Python 3 (ipykernel)",
   "language": "python",
   "name": "python3"
  },
  "language_info": {
   "codemirror_mode": {
    "name": "ipython",
    "version": 3
   },
   "file_extension": ".py",
   "mimetype": "text/x-python",
   "name": "python",
   "nbconvert_exporter": "python",
   "pygments_lexer": "ipython3",
   "version": "3.10.8"
  }
 },
 "nbformat": 4,
 "nbformat_minor": 5
}
